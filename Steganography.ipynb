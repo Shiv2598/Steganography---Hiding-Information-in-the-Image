{
  "nbformat": 4,
  "nbformat_minor": 0,
  "metadata": {
    "colab": {
      "provenance": []
    },
    "kernelspec": {
      "name": "python3",
      "display_name": "Python 3"
    },
    "language_info": {
      "name": "python"
    }
  },
  "cells": [
    {
      "cell_type": "markdown",
      "source": [
        "python dct_steganography"
      ],
      "metadata": {
        "id": "iAxQEEzcrw89"
      }
    },
    {
      "cell_type": "code",
      "execution_count": 14,
      "metadata": {
        "colab": {
          "base_uri": "https://localhost:8080/"
        },
        "id": "cL0UgwkUnG_9",
        "outputId": "204dacf8-6bc9-45fd-c7f0-22594a57c5ff"
      },
      "outputs": [
        {
          "output_type": "stream",
          "name": "stdout",
          "text": [
            "✅ Text successfully hidden in output/bmw.jpg\n"
          ]
        }
      ],
      "source": [
        "import cv2\n",
        "import numpy as np\n",
        "\n",
        "def embed_text_in_dct():\n",
        "    # Load the image in grayscale\n",
        "    img = cv2.imread(\"/bmw.jpg\", 0)\n",
        "\n",
        "    # Check if the image was loaded successfully\n",
        "    if img is None:\n",
        "        print(\"❌ Error: Could not load the image at 'input/original_image.jpg'.\")\n",
        "        print(\"Please ensure the file exists and is a valid image format.\")\n",
        "        return # Exit the function if the image wasn't loaded\n",
        "\n",
        "    h, w = img.shape\n",
        "    message = open(\"/message.txt\", \"r\").read() + chr(0)\n",
        "    binary = ''.join(format(ord(c), '08b') for c in message)\n",
        "\n",
        "    idx = 0\n",
        "    for i in range(0, h - 8, 8):\n",
        "        for j in range(0, w - 8, 8):\n",
        "            if idx >= len(binary):\n",
        "                break\n",
        "            block = np.float32(img[i:i+8, j:j+8])\n",
        "            dct_block = cv2.dct(block)\n",
        "            # Ensure the value at dct_block[4, 4] is an integer before the modulo operation\n",
        "            if int(dct_block[4, 4]) % 2 != int(binary[idx]):\n",
        "                 # Ensure the value at dct_block[4, 4] is a float before adding 1\n",
        "                dct_block[4, 4] = float(int(dct_block[4, 4]) + 1)\n",
        "            # Ensure the output of cv2.idct is converted back to the original image data type (uint8 for typical images)\n",
        "            img[i:i+8, j:j+8] = cv2.idct(dct_block).astype(np.uint8)\n",
        "            idx += 1\n",
        "\n",
        "    cv2.imwrite(\"/bmw.jpg\", img)\n",
        "    print(\"✅ Text successfully hidden in output/bmw.jpg\")\n",
        "\n",
        "embed_text_in_dct()"
      ]
    },
    {
      "cell_type": "markdown",
      "source": [
        "python lsb_steganography"
      ],
      "metadata": {
        "id": "VKLm7f9Jr9gf"
      }
    },
    {
      "cell_type": "code",
      "source": [
        "from PIL import Image\n",
        "\n",
        "def text_to_bin(message):\n",
        "    return ''.join(format(ord(char), '08b') for char in message)\n",
        "\n",
        "def bin_to_text(binary):\n",
        "    chars = [binary[i:i+8] for i in range(0, len(binary), 8)]\n",
        "    return ''.join([chr(int(b, 2)) for b in chars])\n",
        "\n",
        "def hide_text():\n",
        "    with open(\"/message.txt\", \"r\") as f:\n",
        "        secret_text = f.read()\n",
        "\n",
        "    image = Image.open(\"/1276475.jpg\")\n",
        "    binary = text_to_bin(secret_text) + '1111111111111110'  # End marker\n",
        "    data = iter(image.getdata())\n",
        "    new_pixels = []\n",
        "\n",
        "    for i in range(0, len(binary), 3):\n",
        "        pixel = list(next(data))\n",
        "        for j in range(3):\n",
        "            if i + j < len(binary):\n",
        "                pixel[j] = pixel[j] & ~1 | int(binary[i + j])\n",
        "        new_pixels.append(tuple(pixel))\n",
        "\n",
        "    new_pixels.extend(data)\n",
        "    image.putdata(new_pixels)\n",
        "    image.save(\"/1276475.jpg\")\n",
        "    print(\"✅ Text successfully hidden in output/1276475.jpg\")\n",
        "\n",
        "def extract_text():\n",
        "    image = Image.open(\"/1276475.jpg\")\n",
        "    binary = ''\n",
        "    for pixel in image.getdata():\n",
        "        for value in pixel[:3]:\n",
        "            binary += str(value & 1)\n",
        "            if binary[-16:] == '1111111111111110':\n",
        "                message = bin_to_text(binary[:-16])\n",
        "                print(\"🔍 Extracted message:\", message)\n",
        "                return\n",
        "\n",
        "hide_text()\n",
        "extract_text()\n"
      ],
      "metadata": {
        "colab": {
          "base_uri": "https://localhost:8080/"
        },
        "id": "n4sUOfjSnpoJ",
        "outputId": "ac1e6f7f-0d61-4ce1-a6f1-7d9dcb6fc581"
      },
      "execution_count": 15,
      "outputs": [
        {
          "output_type": "stream",
          "name": "stdout",
          "text": [
            "✅ Text successfully hidden in output/1276475.jpg\n",
            "🔍 Extracted message: $I$IÛm¶Ûm¶Ûm¶Ûm¶Ûm¶Ûm¶Ûm¶$IÛm¶$I\u0000~\u0000ÿ\u0001\n"
          ]
        }
      ]
    },
    {
      "cell_type": "markdown",
      "source": [
        "python hybrid_secure_steganography"
      ],
      "metadata": {
        "id": "52BUcaF1sDBZ"
      }
    },
    {
      "cell_type": "code",
      "source": [
        "# Install the pycryptodome library if not already installed\n",
        "!pip install pycryptodome\n",
        "\n",
        "from Crypto.Cipher import AES\n",
        "from Crypto.Util.Padding import pad, unpad\n",
        "import base64\n",
        "from PIL import Image\n",
        "\n",
        "key = b\"thisisasecretkey\"  # 16-byte key\n",
        "\n",
        "def encrypt_msg(text):\n",
        "    cipher = AES.new(key, AES.MODE_CBC, iv=key)\n",
        "    ct = cipher.encrypt(pad(text.encode(), AES.block_size))\n",
        "    return base64.b64encode(ct).decode()\n",
        "\n",
        "def decrypt_msg(enc_text):\n",
        "    cipher = AES.new(key, AES.MODE_CBC, iv=key)\n",
        "    ct = base64.b64decode(enc_text)\n",
        "    pt = unpad(cipher.decrypt(ct), AES.block_size)\n",
        "    return pt.decode()\n",
        "\n",
        "def to_bin(data):\n",
        "    # This function is fine for converting the base64 string to binary\n",
        "    return ''.join(format(ord(i), '08b') for i in data)\n",
        "\n",
        "def hide_encrypted_text():\n",
        "    with open(\"/message.txt\", \"r\") as f:\n",
        "        message = f.read()\n",
        "    encrypted = encrypt_msg(message)\n",
        "    # The binary representation is of the base64 encoded string\n",
        "    binary = to_bin(encrypted) + '1111111111111110'\n",
        "    img = Image.open(\"/bmw.jpg\")\n",
        "\n",
        "    # Check if the image is grayscale and convert to RGB if necessary\n",
        "    if img.mode == 'L':\n",
        "        img = img.convert('RGB')\n",
        "\n",
        "    data = iter(img.getdata())\n",
        "    new_pixels = []\n",
        "\n",
        "    for i in range(0, len(binary), 3):\n",
        "        pixel = list(next(data))\n",
        "        for j in range(3):\n",
        "            if i + j < len(binary):\n",
        "                pixel[j] = pixel[j] & ~1 | int(binary[i + j])\n",
        "        new_pixels.append(tuple(pixel))\n",
        "\n",
        "    new_pixels.extend(data)\n",
        "    img.putdata(new_pixels)\n",
        "    # Changed output filename for clarity\n",
        "    img.save(\"/secure_encoded.png\")\n",
        "    print(\"✅ Encrypted text hidden in /secure_encoded.png\")\n",
        "\n",
        "\n",
        "def extract_encrypted_text():\n",
        "    # Load the image where the encrypted text was hidden\n",
        "    img = Image.open(\"/secure_encoded.png\")\n",
        "    binary = ''\n",
        "    # Extract the LSBs to get the binary string representation of the base64 data\n",
        "    for pixel in img.getdata():\n",
        "        for value in pixel[:3]:\n",
        "            binary += str(value & 1)\n",
        "            # Check for the end marker\n",
        "            if binary[-16:] == '1111111111111110':\n",
        "                # Remove the end marker\n",
        "                binary_data = binary[:-16]\n",
        "                # Convert the binary data back into a string of characters.\n",
        "                # This string should represent the original base64 encoded data.\n",
        "                extracted_chars = ''.join([chr(int(binary_data[i:i+8], 2)) for i in range(0, len(binary_data), 8)])\n",
        "                # Now, decode the extracted base64 string.\n",
        "                # base64.b64decode expects bytes, so encode the string to bytes using ascii.\n",
        "                # This should now work because the extracted string *should* be valid base64.\n",
        "                print(\"🔓 Decrypted Message:\", decrypt_msg(extracted_chars.encode('ascii')))\n",
        "                return\n",
        "    # If the end marker is not found, print a message\n",
        "    print(\"❌ Could not find the end marker in the image.\")\n",
        "\n",
        "\n",
        "hide_encrypted_text()\n",
        "extract_encrypted_text()"
      ],
      "metadata": {
        "colab": {
          "base_uri": "https://localhost:8080/"
        },
        "id": "NQ7ksOMmpN3n",
        "outputId": "bb4574ac-e8ed-41bc-cfd9-1b702b44efdd"
      },
      "execution_count": 16,
      "outputs": [
        {
          "output_type": "stream",
          "name": "stdout",
          "text": [
            "Requirement already satisfied: pycryptodome in /usr/local/lib/python3.11/dist-packages (3.23.0)\n",
            "✅ Encrypted text hidden in /secure_encoded.png\n",
            "🔓 Decrypted Message: HI i am here the password is 2309 .\n",
            "its urgent to decode the fingerprints from the deputy manager.\n"
          ]
        }
      ]
    },
    {
      "cell_type": "markdown",
      "source": [
        " PVD steganography"
      ],
      "metadata": {
        "id": "9S_oL8V8spiG"
      }
    },
    {
      "cell_type": "code",
      "source": [
        "from PIL import Image\n",
        "import os # Import the os module\n",
        "\n",
        "def get_difference(pixel1, pixel2):\n",
        "    return abs(pixel1 - pixel2)\n",
        "\n",
        "def hide_text_pvd(img_path, message, output_path):\n",
        "    img = Image.open(img_path).convert(\"L\")  # grayscale\n",
        "    data = list(img.getdata())\n",
        "    binary = ''.join(format(ord(c), '08b') for c in message + chr(0))\n",
        "    idx = 0\n",
        "\n",
        "    for i in range(0, len(data) - 1, 2):\n",
        "        if idx >= len(binary):\n",
        "            break\n",
        "        d = get_difference(data[i], data[i+1])\n",
        "        if d < 10:\n",
        "            bits_to_embed = 1\n",
        "        elif d < 20:\n",
        "            bits_to_embed = 2\n",
        "        elif d < 40:\n",
        "            bits_to_embed = 3\n",
        "        else:\n",
        "            bits_to_embed = 4\n",
        "\n",
        "        if idx + bits_to_embed > len(binary):\n",
        "            break\n",
        "\n",
        "        bits = binary[idx:idx+bits_to_embed]\n",
        "        val = int(bits, 2)\n",
        "        new_d = val\n",
        "\n",
        "        if data[i] > data[i+1]:\n",
        "            data[i+1] = data[i] - new_d\n",
        "        else:\n",
        "            data[i+1] = data[i] + new_d\n",
        "\n",
        "        idx += bits_to_embed\n",
        "\n",
        "    # Ensure the output directory exists\n",
        "    output_dir = os.path.dirname(output_path)\n",
        "    if not os.path.exists(output_dir):\n",
        "        os.makedirs(output_dir)\n",
        "\n",
        "    img.putdata(data)\n",
        "    img.save(output_path)\n",
        "    print(\"✅ PVD steganography complete.\")\n",
        "\n",
        "hide_text_pvd(\"/1276475.jpg\", open(\"/message.txt\").read(), \"output/pvd_encoded.png\")"
      ],
      "metadata": {
        "colab": {
          "base_uri": "https://localhost:8080/"
        },
        "id": "rT-H-6GHqsOr",
        "outputId": "1cf24df3-b05a-4c89-f905-c6738347e6b8"
      },
      "execution_count": 18,
      "outputs": [
        {
          "output_type": "stream",
          "name": "stdout",
          "text": [
            "✅ PVD steganography complete.\n"
          ]
        }
      ]
    },
    {
      "cell_type": "markdown",
      "source": [
        "Edge-Based LSB"
      ],
      "metadata": {
        "id": "7k0E1RU0tlVF"
      }
    },
    {
      "cell_type": "code",
      "source": [
        "import cv2\n",
        "from PIL import Image\n",
        "\n",
        "def to_bin(data):\n",
        "    return ''.join(format(ord(i), '08b') for i in data)\n",
        "\n",
        "def edge_lsb_hide():\n",
        "    img = cv2.imread(\"/bmw.jpg\")\n",
        "\n",
        "    # Check if the image was loaded successfully\n",
        "    if img is None:\n",
        "        print(\"❌ Error: Could not load the image at '/bmw.jpg'.\")\n",
        "        print(\"Please ensure the file exists and is a valid image format.\")\n",
        "        return\n",
        "\n",
        "    # Convert to grayscale for edge detection\n",
        "    gray = cv2.cvtColor(img, cv2.COLOR_BGR2GRAY)\n",
        "    edges = cv2.Canny(gray, 100, 200)\n",
        "\n",
        "    message = open(\"/message.txt\").read() + chr(0)\n",
        "    binary = to_bin(message)\n",
        "\n",
        "    # Re-open the image with PIL to get pixel data in a suitable format\n",
        "    # Convert to RGB to ensure consistent pixel format (tuples)\n",
        "    img_pil = Image.open(\"/bmw.jpg\").convert(\"RGB\")\n",
        "    pixels = list(img_pil.getdata())\n",
        "    idx = 0\n",
        "\n",
        "    # Iterate through the edge map\n",
        "    for y in range(edges.shape[0]):\n",
        "        for x in range(edges.shape[1]):\n",
        "            # Check if there is an edge at this location and if there's still binary data to embed\n",
        "            if edges[y, x] != 0 and idx < len(binary):\n",
        "                # Calculate the index in the flattened pixel list\n",
        "                i = y * edges.shape[1] + x\n",
        "                # Get the pixel at the current index as a list of values (e.g., [R, G, B])\n",
        "                p = list(pixels[i])\n",
        "                # Embed the binary data into the LSBs of the color channels (R, G, B)\n",
        "                for k in range(3):\n",
        "                    if idx < len(binary):\n",
        "                        p[k] = p[k] & ~1 | int(binary[idx])\n",
        "                        idx += 1\n",
        "                # Update the pixel in the list with the modified values\n",
        "                pixels[i] = tuple(p)\n",
        "\n",
        "    # Put the modified pixel data back into the PIL image\n",
        "    img_pil.putdata(pixels)\n",
        "    # Save the steganographed image\n",
        "    img_pil.save(\"output/edge_lsb_encoded.png\")\n",
        "    print(\"✅ Edge-based LSB complete.\")\n",
        "\n",
        "# Ensure the output directory exists before saving the image\n",
        "import os\n",
        "output_dir = \"output\"\n",
        "if not os.path.exists(output_dir):\n",
        "    os.makedirs(output_dir)\n",
        "\n",
        "edge_lsb_hide()"
      ],
      "metadata": {
        "colab": {
          "base_uri": "https://localhost:8080/"
        },
        "id": "ZcwMmNrNsXW-",
        "outputId": "62e4c9c0-38ae-4d27-c31d-de79c7b05f7f"
      },
      "execution_count": 20,
      "outputs": [
        {
          "output_type": "stream",
          "name": "stdout",
          "text": [
            "✅ Edge-based LSB complete.\n"
          ]
        }
      ]
    },
    {
      "cell_type": "markdown",
      "source": [
        "Histogram Shifting"
      ],
      "metadata": {
        "id": "-2ZxwlGRt4he"
      }
    },
    {
      "cell_type": "code",
      "source": [
        "from PIL import Image\n",
        "import numpy as np\n",
        "\n",
        "def histogram_shift_hide(img_path, message, output_path):\n",
        "    img = Image.open(img_path).convert(\"L\")\n",
        "    arr = np.array(img)\n",
        "    flat = arr.flatten()\n",
        "    binary = ''.join(format(ord(c), '08b') for c in message + chr(0))\n",
        "    idx = 0\n",
        "    peak = 128  # Most frequent pixel usually around mid-intensity\n",
        "\n",
        "    for i in range(len(flat)):\n",
        "        if flat[i] == peak and idx < len(binary):\n",
        "            flat[i] += int(binary[idx])\n",
        "            idx += 1\n",
        "\n",
        "    new_img = Image.fromarray(flat.reshape(arr.shape))\n",
        "    new_img.save(output_path)\n",
        "    print(\"✅ Histogram Shifting complete.\")\n",
        "\n",
        "histogram_shift_hide(\"/bmw.jpg\", open(\"/message.txt\").read(), \"output/histogram_encoded.png\")\n"
      ],
      "metadata": {
        "colab": {
          "base_uri": "https://localhost:8080/"
        },
        "id": "zDh4vKcAs811",
        "outputId": "4de29359-ba86-4437-e234-25846777d965"
      },
      "execution_count": 21,
      "outputs": [
        {
          "output_type": "stream",
          "name": "stdout",
          "text": [
            "✅ Histogram Shifting complete.\n"
          ]
        }
      ]
    },
    {
      "cell_type": "markdown",
      "source": [
        " DWT Steganography"
      ],
      "metadata": {
        "id": "NJL1fIVwuVbh"
      }
    },
    {
      "cell_type": "code",
      "source": [
        "import pywt\n",
        "import cv2\n",
        "import numpy as np\n",
        "\n",
        "def dwt_hide(img_path, message, output_path):\n",
        "    img = cv2.imread(img_path, cv2.IMREAD_GRAYSCALE)\n",
        "\n",
        "    # Check if the image was loaded successfully\n",
        "    if img is None:\n",
        "        print(f\"❌ Error: Could not load the image at '{img_path}'.\")\n",
        "        print(\"Please ensure the file exists and is a valid image format.\")\n",
        "        return\n",
        "\n",
        "    # Perform DWT\n",
        "    coeffs2 = pywt.dwt2(img, 'haar')\n",
        "    cA, (cH, cV, cD) = coeffs2\n",
        "\n",
        "    binary = ''.join(format(ord(c), '08b') for c in message + chr(0))\n",
        "    idx = 0\n",
        "\n",
        "    # Iterate through the detail coefficients (horizontal)\n",
        "    # Embed the binary message into the LSB of the coefficients\n",
        "    for i in range(cH.shape[0]):\n",
        "        for j in range(cH.shape[1]):\n",
        "            if idx < len(binary):\n",
        "                # Convert the float coefficient to an integer before bitwise operations\n",
        "                # This modifies the integer representation of the float\n",
        "                cH[i, j] = float(int(cH[i, j]) & ~1 | int(binary[idx]))\n",
        "                idx += 1\n",
        "\n",
        "    # Reconstruct the image from the modified coefficients\n",
        "    coeffs2 = cA, (cH, cV, cD)\n",
        "    stego_img = pywt.idwt2(coeffs2, 'haar')\n",
        "\n",
        "    # Ensure the output directory exists\n",
        "    import os\n",
        "    output_dir = os.path.dirname(output_path)\n",
        "    if output_dir and not os.path.exists(output_dir):\n",
        "        os.makedirs(output_dir)\n",
        "\n",
        "    # Save the steganographed image\n",
        "    # Convert to uint8 before saving as image\n",
        "    cv2.imwrite(output_path, np.uint8(stego_img))\n",
        "    print(f\"✅ DWT Steganography complete. Output saved to {output_path}\")\n",
        "\n",
        "# Install pywt if not already installed\n",
        "!pip install pywt\n",
        "\n",
        "# Call the function\n",
        "dwt_hide(\"/1276475.jpg\", open(\"/message.txt\").read(), \"output/dwt_encoded.jpg\")"
      ],
      "metadata": {
        "colab": {
          "base_uri": "https://localhost:8080/"
        },
        "id": "40HGqbMet1SU",
        "outputId": "db7d7c3d-2ce4-4cbf-fcc3-6ef10dafd018"
      },
      "execution_count": 24,
      "outputs": [
        {
          "output_type": "stream",
          "name": "stdout",
          "text": [
            "\u001b[31mERROR: Could not find a version that satisfies the requirement pywt (from versions: none)\u001b[0m\u001b[31m\n",
            "\u001b[0m\u001b[31mERROR: No matching distribution found for pywt\u001b[0m\u001b[31m\n",
            "\u001b[0m✅ DWT Steganography complete. Output saved to output/dwt_encoded.jpg\n"
          ]
        }
      ]
    },
    {
      "cell_type": "code",
      "source": [],
      "metadata": {
        "id": "ylfrfNTpuBcN"
      },
      "execution_count": null,
      "outputs": []
    }
  ]
}